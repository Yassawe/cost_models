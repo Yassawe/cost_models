{
 "cells": [
  {
   "cell_type": "code",
   "execution_count": null,
   "metadata": {},
   "outputs": [],
   "source": [
    "import numpy as np\n",
    "import matplotlib.pyplot as plt\n",
    "plt.rcParams[\"figure.figsize\"] = (15,15)\n",
    "from matplotlib.ticker import LinearLocator\n",
    "# alpha = latency, units are in s\n",
    "# beta = 1/bandwidth, units of bandwiths is in GB/s\n",
    "# P = number of processors in the entire system, units are in numbers :)\n",
    "# N = message size, units are in GB\n",
    "# gamma = number of processors in a group in Tencent's AllReduce\n"
   ]
  },
  {
   "cell_type": "code",
   "execution_count": null,
   "metadata": {},
   "outputs": [],
   "source": [
    "%matplotlib inline  \n",
    "%matplotlib widget\n",
    "%pylab"
   ]
  },
  {
   "cell_type": "code",
   "execution_count": null,
   "metadata": {},
   "outputs": [],
   "source": [
    "LT = 10e-5 #in seconds\n",
    "BW = 26843545600 #50GB/s, in bytes/second\n",
    "\n",
    "#HammingMesh, 400Gb/s = 50GB/s"
   ]
  },
  {
   "cell_type": "code",
   "execution_count": null,
   "metadata": {},
   "outputs": [],
   "source": [
    "def Torus2D_Google(latency, bandwidth, P, N):\n",
    "    alpha = latency\n",
    "    beta = 1/bandwidth\n",
    "    return 4*alpha*(np.sqrt(P)-1) + 4*beta*N*(np.sqrt(P)-1)/np.sqrt(P)\n",
    "\n",
    "def Dragonfly_Hierarchical_dimensionPipelined(latency, bandwidth, P, N):\n",
    "    alpha = latency\n",
    "    beta = 1/bandwidth\n",
    "    p_hat = np.sqrt(np.sqrt(1+4*P)-1)/2\n",
    "    return alpha*(2*np.log2(p_hat)+5*p_hat-3) + beta*N + 2*np.sqrt(alpha*beta*N*(2*np.log2(p_hat)+5*p_hat-3))\n",
    "\n",
    "def Dragonfly_Hierarchical_dimensionNotPipelined(latency, bandwidth, P, N):\n",
    "    alpha = latency\n",
    "    beta = 1/bandwidth\n",
    "    p_hat = np.sqrt(np.sqrt(1+4*P)-1)/2\n",
    "\n",
    "    R_stage = alpha*(np.log(p_hat)-1) + beta*N + 2*np.sqrt(max((np.log(p_hat)-1)*beta*N*alpha,0))\n",
    "    L_stage = alpha*(2*p_hat-1) + beta*(2*p_hat-1)*N\n",
    "    G_stage = p_hat*alpha + p_hat*beta*N\n",
    "    return R_stage+L_stage+G_stage+L_stage+R_stage\n",
    "\n",
    "def Dragonfly_proposed(latency, bandwidth, P, N):\n",
    "    alpha = latency\n",
    "    beta = 1/bandwidth\n",
    "    p_hat = np.sqrt(np.sqrt(1+4*P)-1)/2\n",
    "    return alpha*(7*p_hat-4)+beta*N*(7*p_hat-4)/p_hat\n",
    "\n",
    "def Ring(latency, bandwidth, P, N):\n",
    "    alpha = latency\n",
    "    beta = 1/bandwidth\n",
    "    return 2*(P-1)*alpha + 2*beta*N*(P-1)/P\n",
    "\n",
    "def Tree(latency, bandwidth, P, N): \n",
    "    alpha = latency\n",
    "    beta = 1/bandwidth\n",
    "    return 2*alpha*(np.log2(P)-1) + 2*beta*N + 4*np.sqrt((np.log2(P)-1)*beta*N*alpha)\n",
    "\n",
    "def DoubleTree(latency, bandwidth, P, N):\n",
    "    alpha = latency\n",
    "    beta = 1/bandwidth\n",
    "    return alpha*(2*np.log(P)-1) + beta*N + np.sqrt(4*beta*N*alpha*(2*np.log(P)-1))\n",
    "\n",
    "def Rabenseifner(latency, bandwidth, P, N):\n",
    "    alpha = latency\n",
    "    beta = 1/bandwidth\n",
    "    return 2*np.log2(P)*alpha + 2*beta*N*(P-1)/P\n",
    "\n",
    "def BiRing(latency, bandwidth, P, N):\n",
    "    alpha = latency\n",
    "    beta = 1/bandwidth\n",
    "    return 2*(P-1)*alpha + beta*N*(P-1)/P\n",
    "\n",
    "def BiRingHier(latency, bandwidth, P, N):\n",
    "    groupSize = 544\n",
    "    alpha = latency\n",
    "    beta = 1/bandwidth\n",
    "\n",
    "    l_cost = 2*alpha*(groupSize-1)+beta*N*(groupSize-1)/groupSize\n",
    "    g_cost = 2*alpha*(2*P/groupSize -1 ) + beta*N*(2*P/groupSize-1)/(2*P/groupSize)\n",
    "\n",
    "    return 2*l_cost+g_cost\n"
   ]
  },
  {
   "cell_type": "code",
   "execution_count": null,
   "metadata": {},
   "outputs": [],
   "source": [
    "def sweepProcessors(algos, N=20*2**20, Ps=np.arange(4, 1024, 1)):\n",
    "    results = {}\n",
    "    for p in Ps:\n",
    "        for key in algos:\n",
    "            if key not in results.keys():\n",
    "                results[key]=[algos[key](LT, BW, p, N)]\n",
    "            else:\n",
    "                results[key].append(algos[key](LT, BW, p, N))\n",
    "    return results, Ps, [\"Sweeping Number of Processors\", \"Processors\", \"Communication Time (s)\"]\n",
    "\n",
    "def sweepMessageSize(algos, P=256, Ns=np.arange(2*2**20, 2*2**30, 2*2**20)):\n",
    "    runtime = {}    \n",
    "    for n in Ns:\n",
    "        for key in algos:\n",
    "            t = algos[key](LT, BW, P, n)\n",
    "\n",
    "            if key not in runtime.keys():\n",
    "                runtime[key]=[t]\n",
    "            else:\n",
    "                runtime[key].append(t)         \n",
    "    return runtime, Ns, [\"Sweeping message size\", \"Message size\", \"Communication Time (s)\"]\n",
    "\n",
    "def getThroughput(algos, P=256, Ns=np.arange(2*2**20, 2*2**30, 2*2**20)):\n",
    "    throughput = {}\n",
    "    for n in Ns:\n",
    "        for key in algos:\n",
    "            t = algos[key](LT, BW, P, n)\n",
    "\n",
    "            if key not in throughput.keys():\n",
    "                throughput[key]=[n/t]\n",
    "            else:\n",
    "                throughput[key].append(n/t)\n",
    "    return throughput, Ns, [\"Sweeping msg size\", \"Message size (bytes)\", \"Throughput (bytes/sec)\"]"
   ]
  },
  {
   "cell_type": "code",
   "execution_count": null,
   "metadata": {},
   "outputs": [],
   "source": [
    "def plotData(results, x_axis, PlotInfo):\n",
    "    fig = plt.figure(figsize=(16,8), facecolor='white')\n",
    "    ax = fig.add_subplot(111)\n",
    "    \n",
    "    # ax.set_xscale('log', base=2)\n",
    "\n",
    "    plt.tight_layout()\n",
    "    plt.title(PlotInfo[0], fontsize=20)\n",
    "    plt.xlabel(PlotInfo[1], fontsize=20)\n",
    "    plt.ylabel(PlotInfo[2], fontsize=20)\n",
    "\n",
    "    for key in results:\n",
    "        ax.plot(x_axis, results[key], label=key)\n",
    "    plt.legend()\n",
    "    plt.show()"
   ]
  },
  {
   "attachments": {},
   "cell_type": "markdown",
   "metadata": {},
   "source": [
    "### some experiments"
   ]
  },
  {
   "cell_type": "code",
   "execution_count": null,
   "metadata": {},
   "outputs": [],
   "source": [
    "algos = { \n",
    "        # \"Dragonfly, hierearchical AR with no dimension pipelining\": Dragonfly_Hierarchical_dimensionNotPipelined,\n",
    "        # \"Dragonfly_Hierarchical_dimensionPipelined\": Dragonfly_Hierarchical_dimensionPipelined,\n",
    "        # \"Dragonfly, hierarchical AR with ring\": Dragonfly_proposed,\n",
    "        \"Ring\":Ring,\n",
    "        \"Tree\":Tree,\n",
    "        # \"Torus2D AR\":Torus2D_Google,\n",
    "        } "
   ]
  },
  {
   "cell_type": "code",
   "execution_count": null,
   "metadata": {},
   "outputs": [],
   "source": [
    "results, x_axis, plotInfo = sweepProcessors(algos, N=1*2**30, Ps=np.linspace(4, 1024, 100))"
   ]
  },
  {
   "cell_type": "code",
   "execution_count": null,
   "metadata": {},
   "outputs": [],
   "source": [
    "plotData(results, x_axis, plotInfo)"
   ]
  },
  {
   "cell_type": "code",
   "execution_count": null,
   "metadata": {},
   "outputs": [],
   "source": [
    "runtime, msg_size, plotInfo = sweepMessageSize(algos, P=1024, Ns = np.arange(2**20, 2**30, 2**20))"
   ]
  },
  {
   "cell_type": "code",
   "execution_count": null,
   "metadata": {},
   "outputs": [],
   "source": [
    "plotData(runtime, msg_size, plotInfo)"
   ]
  },
  {
   "cell_type": "code",
   "execution_count": null,
   "metadata": {},
   "outputs": [],
   "source": [
    "thrpt, x_axis, plotInfo = getThroughput(algos, P=16320, Ns=np.arange(2**20, 2**30, 200*2**20))"
   ]
  },
  {
   "cell_type": "code",
   "execution_count": null,
   "metadata": {},
   "outputs": [],
   "source": [
    "plotData(thrpt, x_axis, plotInfo)"
   ]
  },
  {
   "attachments": {},
   "cell_type": "markdown",
   "metadata": {},
   "source": [
    "## 3D plot with P and N"
   ]
  },
  {
   "cell_type": "code",
   "execution_count": null,
   "metadata": {},
   "outputs": [],
   "source": [
    "def getMatrix(algos, algo, messages=np.logspace(17,33,num=16, base=2), procs=np.logspace(2,18, num=16,base=2)):\n",
    "    #convention: rows = processors, cols = messages\n",
    "    matrix = np.zeros((procs.size, messages.size))\n",
    "    X,Y = np.meshgrid(procs, messages)\n",
    "    for p_i in range(procs.size):\n",
    "        for n_i in range(messages.size):\n",
    "            matrix[p_i][n_i] = algos[algo](LT, BW, procs[p_i], messages[n_i])\n",
    "    return matrix, X, Y    "
   ]
  },
  {
   "cell_type": "code",
   "execution_count": null,
   "metadata": {},
   "outputs": [],
   "source": [
    "ring_matrix, X, Y = getMatrix(algos, \"Ring\", messages=np.linspace(2**17, 2**33, 100), procs = np.linspace(4, 1024, 100))\n",
    "tree_matrix, X, Y = getMatrix(algos, \"Tree\", messages=np.linspace(2**17, 2**33, 100), procs = np.linspace(4, 1024, 100))"
   ]
  },
  {
   "cell_type": "code",
   "execution_count": null,
   "metadata": {},
   "outputs": [],
   "source": [
    "fig = plt.figure()\n",
    "ax = fig.add_subplot(111, projection='3d')\n",
    "ax.plot_surface(X, Y, tree_matrix-ring_matrix)\n",
    "ax.plot_surface(X,Y, np.zeros_like(ring_matrix))\n",
    "ax.set_xlabel(\"Processors\", fontsize=20)\n",
    "ax.set_ylabel(\"Message Size\", fontsize = 20)\n",
    "ax.set_zlabel(\"Communication Time(s)\", fontsize = 20)\n",
    "plt.show()"
   ]
  },
  {
   "cell_type": "code",
   "execution_count": null,
   "metadata": {},
   "outputs": [],
   "source": []
  }
 ],
 "metadata": {
  "kernelspec": {
   "display_name": "ML_DS",
   "language": "python",
   "name": "python3"
  },
  "language_info": {
   "codemirror_mode": {
    "name": "ipython",
    "version": 3
   },
   "file_extension": ".py",
   "mimetype": "text/x-python",
   "name": "python",
   "nbconvert_exporter": "python",
   "pygments_lexer": "ipython3",
   "version": "3.9.7"
  },
  "orig_nbformat": 4,
  "vscode": {
   "interpreter": {
    "hash": "7bc37ae4ee95b0d102bb3e8b773b503853a10171f8a8f25f48e96424275049fa"
   }
  }
 },
 "nbformat": 4,
 "nbformat_minor": 2
}
